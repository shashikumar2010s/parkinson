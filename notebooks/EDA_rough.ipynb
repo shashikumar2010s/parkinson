{
 "cells": [
  {
   "cell_type": "code",
   "execution_count": 2,
   "metadata": {},
   "outputs": [],
   "source": [
    "import pandas as pd"
   ]
  },
  {
   "cell_type": "code",
   "execution_count": 3,
   "metadata": {},
   "outputs": [
    {
     "data": {
      "text/html": [
       "<div>\n",
       "<style scoped>\n",
       "    .dataframe tbody tr th:only-of-type {\n",
       "        vertical-align: middle;\n",
       "    }\n",
       "\n",
       "    .dataframe tbody tr th {\n",
       "        vertical-align: top;\n",
       "    }\n",
       "\n",
       "    .dataframe thead th {\n",
       "        text-align: right;\n",
       "    }\n",
       "</style>\n",
       "<table border=\"1\" class=\"dataframe\">\n",
       "  <thead>\n",
       "    <tr style=\"text-align: right;\">\n",
       "      <th></th>\n",
       "      <th>visit_id</th>\n",
       "      <th>visit_month</th>\n",
       "      <th>patient_id</th>\n",
       "      <th>UniProt</th>\n",
       "      <th>Peptide</th>\n",
       "      <th>PeptideAbundance</th>\n",
       "    </tr>\n",
       "  </thead>\n",
       "  <tbody>\n",
       "    <tr>\n",
       "      <th>0</th>\n",
       "      <td>55_0</td>\n",
       "      <td>0</td>\n",
       "      <td>55</td>\n",
       "      <td>O00391</td>\n",
       "      <td>NEQEQPLGQWHLS</td>\n",
       "      <td>11254.3</td>\n",
       "    </tr>\n",
       "    <tr>\n",
       "      <th>1</th>\n",
       "      <td>55_0</td>\n",
       "      <td>0</td>\n",
       "      <td>55</td>\n",
       "      <td>O00533</td>\n",
       "      <td>GNPEPTFSWTK</td>\n",
       "      <td>102060.0</td>\n",
       "    </tr>\n",
       "    <tr>\n",
       "      <th>2</th>\n",
       "      <td>55_0</td>\n",
       "      <td>0</td>\n",
       "      <td>55</td>\n",
       "      <td>O00533</td>\n",
       "      <td>IEIPSSVQQVPTIIK</td>\n",
       "      <td>174185.0</td>\n",
       "    </tr>\n",
       "    <tr>\n",
       "      <th>3</th>\n",
       "      <td>55_0</td>\n",
       "      <td>0</td>\n",
       "      <td>55</td>\n",
       "      <td>O00533</td>\n",
       "      <td>KPQSAVYSTGSNGILLC(UniMod_4)EAEGEPQPTIK</td>\n",
       "      <td>27278.9</td>\n",
       "    </tr>\n",
       "    <tr>\n",
       "      <th>4</th>\n",
       "      <td>55_0</td>\n",
       "      <td>0</td>\n",
       "      <td>55</td>\n",
       "      <td>O00533</td>\n",
       "      <td>SMEQNGPGLEYR</td>\n",
       "      <td>30838.7</td>\n",
       "    </tr>\n",
       "  </tbody>\n",
       "</table>\n",
       "</div>"
      ],
      "text/plain": [
       "  visit_id  visit_month  patient_id UniProt  \\\n",
       "0     55_0            0          55  O00391   \n",
       "1     55_0            0          55  O00533   \n",
       "2     55_0            0          55  O00533   \n",
       "3     55_0            0          55  O00533   \n",
       "4     55_0            0          55  O00533   \n",
       "\n",
       "                                  Peptide  PeptideAbundance  \n",
       "0                           NEQEQPLGQWHLS           11254.3  \n",
       "1                             GNPEPTFSWTK          102060.0  \n",
       "2                         IEIPSSVQQVPTIIK          174185.0  \n",
       "3  KPQSAVYSTGSNGILLC(UniMod_4)EAEGEPQPTIK           27278.9  \n",
       "4                            SMEQNGPGLEYR           30838.7  "
      ]
     },
     "execution_count": 3,
     "metadata": {},
     "output_type": "execute_result"
    }
   ],
   "source": [
    "train_pep_df = pd.read_csv(\"../data/amp-parkinsons-disease-progression-prediction/train_peptides.csv\")\n",
    "train_pep_df.head()"
   ]
  },
  {
   "cell_type": "code",
   "execution_count": 4,
   "metadata": {},
   "outputs": [
    {
     "name": "stdout",
     "output_type": "stream",
     "text": [
      "number of unique peptides: 968\n",
      "number of unique patient: 248\n",
      "number of unique UniProt: 227\n",
      "rec_in_each_pep:\n",
      " Peptide\n",
      "KYLYEIAR                  1113\n",
      "AIGYLNTGYQR               1113\n",
      "NILTSNNIDVK               1113\n",
      "IPTTFENGR                 1113\n",
      "TLLSNLEEAK                1113\n",
      "                          ... \n",
      "HYEGSTVPEK                 605\n",
      "SLEDQVEMLR                 599\n",
      "TPSGLYLGTC(UniMod_4)ER     590\n",
      "EPQVYTLPPSRDELTK           563\n",
      "QALPQVR                    489\n",
      "Name: Peptide, Length: 968, dtype: int64\n",
      "rec_for_each_patient:\n",
      " patient_id  visit_month\n",
      "47171       6              947\n",
      "16574       12             946\n",
      "35477       48             945\n",
      "35675       12             944\n",
      "65043       24             944\n",
      "                          ... \n",
      "57478       24             538\n",
      "19088       12             529\n",
      "58648       84             525\n",
      "19088       48             497\n",
      "25562       36              94\n",
      "Name: patient_id, Length: 1113, dtype: int64\n"
     ]
    }
   ],
   "source": [
    "peptides_uniq_count=train_pep_df['Peptide'].unique()\n",
    "print(f\"number of unique peptides: {len(peptides_uniq_count)}\")\n",
    "patient_uniq_count=train_pep_df['patient_id'].unique()\n",
    "print(f\"number of unique patient: {len(patient_uniq_count)}\")\n",
    "UniProt_uniq_count=train_pep_df['UniProt'].unique()\n",
    "print(f\"number of unique UniProt: {len(UniProt_uniq_count)}\")\n",
    "rec_in_each_pep = train_pep_df.groupby(['Peptide'])['Peptide'].count().sort_values(ascending=False)\n",
    "print(f\"rec_in_each_pep:\\n {rec_in_each_pep}\")\n",
    "rec_for_each_patient = train_pep_df.groupby(['patient_id','visit_month'])['patient_id'].count().sort_values(ascending=False)\n",
    "print(f\"rec_for_each_patient:\\n {rec_for_each_patient}\")"
   ]
  },
  {
   "cell_type": "code",
   "execution_count": 5,
   "metadata": {},
   "outputs": [],
   "source": [
    "import plotly.express as px\n",
    "figure = px.line(train_pep_df, x = train_pep_df.PeptideAbundance, \n",
    "                 y = \"Peptide\", \n",
    "                 title = \"Time Series Analysis (Line Plot)\")\n",
    "# figure.show()"
   ]
  },
  {
   "cell_type": "code",
   "execution_count": null,
   "metadata": {},
   "outputs": [],
   "source": []
  },
  {
   "cell_type": "code",
   "execution_count": null,
   "metadata": {},
   "outputs": [],
   "source": []
  }
 ],
 "metadata": {
  "interpreter": {
   "hash": "90a750330cdb8b59528ef3618dae3de0a2914fd70f9f7771f60a9b7f23129867"
  },
  "kernelspec": {
   "display_name": "Python 3.10.4 ('first')",
   "language": "python",
   "name": "python3"
  },
  "language_info": {
   "codemirror_mode": {
    "name": "ipython",
    "version": 3
   },
   "file_extension": ".py",
   "mimetype": "text/x-python",
   "name": "python",
   "nbconvert_exporter": "python",
   "pygments_lexer": "ipython3",
   "version": "3.10.4"
  },
  "orig_nbformat": 4
 },
 "nbformat": 4,
 "nbformat_minor": 2
}
