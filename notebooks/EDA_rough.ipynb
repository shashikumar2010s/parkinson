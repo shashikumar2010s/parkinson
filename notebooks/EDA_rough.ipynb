{
 "cells": [
  {
   "cell_type": "code",
   "execution_count": 4,
   "metadata": {},
   "outputs": [],
   "source": [
    "import pandas as pd"
   ]
  },
  {
   "cell_type": "code",
   "execution_count": 5,
   "metadata": {},
   "outputs": [
    {
     "data": {
      "text/plain": [
       "visit_id            981834\n",
       "visit_month         981834\n",
       "patient_id          981834\n",
       "UniProt             981834\n",
       "Peptide             981834\n",
       "PeptideAbundance    981834\n",
       "dtype: int64"
      ]
     },
     "execution_count": 5,
     "metadata": {},
     "output_type": "execute_result"
    }
   ],
   "source": [
    "df = pd.read_csv(\"../data/amp-parkinsons-disease-progression-prediction/train_peptides.csv\")\n",
    "df.head()\n"
   ]
  },
  {
   "cell_type": "code",
   "execution_count": 16,
   "metadata": {},
   "outputs": [
    {
     "name": "stdout",
     "output_type": "stream",
     "text": [
      "number of unique peptides: 968\n",
      "Peptide\n",
      "KYLYEIAR                  1113\n",
      "AIGYLNTGYQR               1113\n",
      "NILTSNNIDVK               1113\n",
      "IPTTFENGR                 1113\n",
      "TLLSNLEEAK                1113\n",
      "                          ... \n",
      "HYEGSTVPEK                 605\n",
      "SLEDQVEMLR                 599\n",
      "TPSGLYLGTC(UniMod_4)ER     590\n",
      "EPQVYTLPPSRDELTK           563\n",
      "QALPQVR                    489\n",
      "Name: Peptide, Length: 968, dtype: int64\n"
     ]
    }
   ],
   "source": [
    "peptides_uniq_count=df['Peptide'].unique()\n",
    "rec_in_each_pep = df.groupby(['Peptide'])['Peptide'].count().sort_values(ascending=False)\n",
    "\n",
    "print(f\"number of unique peptides: {len(peptides_uniq_count)}\")\n",
    "print(rec_in_each_pep)"
   ]
  },
  {
   "cell_type": "code",
   "execution_count": 7,
   "metadata": {},
   "outputs": [
    {
     "data": {
      "text/plain": [
       "968"
      ]
     },
     "execution_count": 7,
     "metadata": {},
     "output_type": "execute_result"
    }
   ],
   "source": [
    "\n"
   ]
  },
  {
   "cell_type": "code",
   "execution_count": 9,
   "metadata": {},
   "outputs": [
    {
     "name": "stdout",
     "output_type": "stream",
     "text": [
      "Peptide\n",
      "AADDTWEPFASGK                                       1069\n",
      "AAFGQGSGPIMLDEVQC(UniMod_4)TGTEASLADC(UniMod_4)K    1049\n",
      "AAFTEC(UniMod_4)C(UniMod_4)QAADK                    1107\n",
      "AANEVSSADVK                                          909\n",
      "AATGEC(UniMod_4)TATVGKR                              914\n",
      "                                                    ... \n",
      "YVNKEIQNAVNGVK                                      1111\n",
      "YWGVASFLQK                                          1089\n",
      "YYC(UniMod_4)FQGNQFLR                               1105\n",
      "YYTYLIMNK                                           1030\n",
      "YYWGGQYTWDMAK                                        865\n",
      "Name: Peptide, Length: 968, dtype: int64\n"
     ]
    }
   ],
   "source": []
  },
  {
   "cell_type": "code",
   "execution_count": null,
   "metadata": {},
   "outputs": [],
   "source": []
  }
 ],
 "metadata": {
  "interpreter": {
   "hash": "90a750330cdb8b59528ef3618dae3de0a2914fd70f9f7771f60a9b7f23129867"
  },
  "kernelspec": {
   "display_name": "Python 3.10.4 ('first')",
   "language": "python",
   "name": "python3"
  },
  "language_info": {
   "codemirror_mode": {
    "name": "ipython",
    "version": 3
   },
   "file_extension": ".py",
   "mimetype": "text/x-python",
   "name": "python",
   "nbconvert_exporter": "python",
   "pygments_lexer": "ipython3",
   "version": "3.10.4"
  },
  "orig_nbformat": 4
 },
 "nbformat": 4,
 "nbformat_minor": 2
}
